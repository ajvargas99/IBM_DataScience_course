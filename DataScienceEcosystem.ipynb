{
 "cells": [
  {
   "cell_type": "markdown",
   "id": "c4859345-eb68-4c78-ada4-890ebfa62d4b",
   "metadata": {},
   "source": [
    "# Data Science Tools and Ecosystem"
   ]
  },
  {
   "cell_type": "markdown",
   "id": "705c8643-7ef6-4990-81ce-44150e64bec6",
   "metadata": {},
   "source": [
    "In this notebook, Data Science Tools and Ecosystem are summarized"
   ]
  },
  {
   "cell_type": "markdown",
   "id": "6cadc48a-e116-46e4-a494-33105ce4991e",
   "metadata": {},
   "source": [
    "**Objectives:**\n",
    "- Popular languages used by Data Scientists\n",
    "- Commonly used libraries\n",
    "- Data Science tools and open source deveolpment environments\n",
    "- Become familiar with tool categories (Open Source, Cloud-based, and Commercial)  \n"
   ]
  },
  {
   "cell_type": "markdown",
   "id": "766e0633-6d63-4156-99a6-9956fae50578",
   "metadata": {},
   "source": [
    "Some of the popular languages that Data Scientists use are:\n",
    "1. Python\n",
    "2. R\n",
    "3. SQL"
   ]
  },
  {
   "cell_type": "markdown",
   "id": "1c317d82-2889-429a-bc40-bac55ee9bbb2",
   "metadata": {},
   "source": [
    "Some of the commonly used libraries used by Data Scientists include:\n",
    "1. Pandas\n",
    "2. Numpy\n",
    "3. Matplotlib\n",
    "4. Sci-Kit"
   ]
  },
  {
   "cell_type": "markdown",
   "id": "6857aa74-4273-4abe-a351-cbb4fa912588",
   "metadata": {},
   "source": [
    "| Data Science Tools     | \n",
    "| ----------- |\n",
    "| Hadoop        | \n",
    "| Apache Spark         | \n",
    "|  R Studio       |\n"
   ]
  },
  {
   "cell_type": "markdown",
   "id": "b59da8f5-0548-4a74-abc5-774f4a161e40",
   "metadata": {},
   "source": [
    "### Below are a few examples of evaluating arithmetic expressions in Python"
   ]
  },
  {
   "cell_type": "code",
   "execution_count": 3,
   "id": "845a4115-2bfd-463e-8307-8c170df44ed3",
   "metadata": {},
   "outputs": [
    {
     "data": {
      "text/plain": [
       "17"
      ]
     },
     "execution_count": 3,
     "metadata": {},
     "output_type": "execute_result"
    }
   ],
   "source": [
    "# This a simple arithmetic expression to multiply then add integers\n",
    "(3*4)+5"
   ]
  },
  {
   "cell_type": "code",
   "execution_count": 8,
   "id": "ec14b31a-c9c2-45ff-8eca-daac165a9a90",
   "metadata": {},
   "outputs": [
    {
     "name": "stdout",
     "output_type": "stream",
     "text": [
      "3.3333333333333335 hours\n"
     ]
    }
   ],
   "source": [
    "# This will convert 200 minutes to hours by diving by 60\n",
    "x = 200 #minutes\n",
    "y = x/60\n",
    "print(y, 'hours')"
   ]
  },
  {
   "cell_type": "markdown",
   "id": "a0b78316-3414-4778-a179-8fd8df3630b0",
   "metadata": {},
   "source": [
    "## Author\n",
    "Andres V."
   ]
  },
  {
   "cell_type": "code",
   "execution_count": null,
   "id": "db27e2fd-6ecd-4fbe-8cd3-082736140b5d",
   "metadata": {},
   "outputs": [],
   "source": []
  }
 ],
 "metadata": {
  "kernelspec": {
   "display_name": "Python 3 (ipykernel)",
   "language": "python",
   "name": "python3"
  },
  "language_info": {
   "codemirror_mode": {
    "name": "ipython",
    "version": 3
   },
   "file_extension": ".py",
   "mimetype": "text/x-python",
   "name": "python",
   "nbconvert_exporter": "python",
   "pygments_lexer": "ipython3",
   "version": "3.12.8"
  }
 },
 "nbformat": 4,
 "nbformat_minor": 5
}
